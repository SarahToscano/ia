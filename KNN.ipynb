{
 "cells": [
  {
   "cell_type": "markdown",
   "metadata": {},
   "source": [
    "# Import de bibliotecas"
   ]
  },
  {
   "cell_type": "code",
   "execution_count": 30,
   "metadata": {
    "scrolled": true
   },
   "outputs": [],
   "source": [
    "import pandas as pd\n",
    "import matplotlib.pyplot as plt\n",
    "import numpy as np\n",
    "from sklearn import cluster, neighbors, svm, metrics, preprocessing"
   ]
  },
  {
   "cell_type": "markdown",
   "metadata": {},
   "source": [
    "# Abertura da base Iris"
   ]
  },
  {
   "cell_type": "code",
   "execution_count": 31,
   "metadata": {},
   "outputs": [],
   "source": [
    "df = pd.read_csv('base.csv', encoding = \"ISO-8859-1\")                   \n"
   ]
  },
  {
   "cell_type": "markdown",
   "metadata": {},
   "source": [
    "# Criação dos arquivos de treinamento e tese"
   ]
  },
  {
   "cell_type": "code",
   "execution_count": 37,
   "metadata": {},
   "outputs": [],
   "source": [
    "trainSample = df.sample(frac=0.8, random_state = 1) #seleção de 80% da base para treinamento\n",
    "testSample = pd.concat([df, trainSample]).drop_duplicates(keep=False) #concatena a base original com a base de treinamento e exclui os duplicados, sobrando a amostra de teste\n",
    "\n",
    "trainTarget = trainSample[\"variety\"] #define o atributo alvo da base para o treinamento\n",
    "testTarget = testSample[\"variety\"] #define o atributo alvo da base para o teste\n",
    "\n",
    "\n",
    "del testSample[\"variety\"]\n",
    "del trainSample[\"variety\"]\n"
   ]
  },
  {
   "cell_type": "markdown",
   "metadata": {},
   "source": [
    "# Usando o K-NN"
   ]
  },
  {
   "cell_type": "code",
   "execution_count": 38,
   "metadata": {
    "scrolled": true
   },
   "outputs": [],
   "source": [
    "knn = neighbors.KNeighborsClassifier(n_neighbors=1, algorithm=\"auto\") #k vizinhos mais próximos = n_neighbors\n",
    "knn.fit(trainSample, trainTarget)\n",
    "resultKNN = knn.predict(testSample)"
   ]
  },
  {
   "cell_type": "markdown",
   "metadata": {},
   "source": [
    "# Avaliando o modelo"
   ]
  },
  {
   "cell_type": "code",
   "execution_count": 36,
   "metadata": {},
   "outputs": [
    {
     "name": "stdout",
     "output_type": "stream",
     "text": [
      "\n",
      "K-NN\n",
      "Acurácia: 0.93\n",
      "Matriz de Confusão:\n",
      " [[10  0  0]\n",
      " [ 0 12  1]\n",
      " [ 0  1  5]]\n"
     ]
    }
   ],
   "source": [
    "print(\"\\nK-NN\")\n",
    "print(\"Acurácia: %0.2f\" % (metrics.accuracy_score(testTarget, resultKNN)))\n",
    "\n",
    "\n",
    "matrizConfusao = metrics.confusion_matrix(testTarget, resultKNN)\n",
    "print(\"Matriz de Confusão:\\n\",matrizConfusao)\n"
   ]
  }
 ],
 "metadata": {
  "kernelspec": {
   "display_name": "Python 3",
   "language": "python",
   "name": "python3"
  },
  "language_info": {
   "codemirror_mode": {
    "name": "ipython",
    "version": 3
   },
   "file_extension": ".py",
   "mimetype": "text/x-python",
   "name": "python",
   "nbconvert_exporter": "python",
   "pygments_lexer": "ipython3",
   "version": "3.7.2"
  }
 },
 "nbformat": 4,
 "nbformat_minor": 2
}
